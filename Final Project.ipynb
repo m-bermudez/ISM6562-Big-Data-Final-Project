{
 "cells": [
  {
   "cell_type": "markdown",
   "id": "aaf27566",
   "metadata": {},
   "source": [
    "## FINAL PROJECT: ISM 6562 - BIG DATA FOR BUSINESS"
   ]
  },
  {
   "cell_type": "code",
   "execution_count": 15,
   "id": "1db89d04",
   "metadata": {},
   "outputs": [
    {
     "data": {
      "text/html": [
       "<svg  width=\"330\" height=\"55\"><rect x=\"0\" y=\"0\" width=\"55\" height=\"55\" style=\"fill:#46327e;stroke-width:2;stroke:rgb(255,255,255)\"/><rect x=\"55\" y=\"0\" width=\"55\" height=\"55\" style=\"fill:#365c8d;stroke-width:2;stroke:rgb(255,255,255)\"/><rect x=\"110\" y=\"0\" width=\"55\" height=\"55\" style=\"fill:#277f8e;stroke-width:2;stroke:rgb(255,255,255)\"/><rect x=\"165\" y=\"0\" width=\"55\" height=\"55\" style=\"fill:#1fa187;stroke-width:2;stroke:rgb(255,255,255)\"/><rect x=\"220\" y=\"0\" width=\"55\" height=\"55\" style=\"fill:#4ac16d;stroke-width:2;stroke:rgb(255,255,255)\"/><rect x=\"275\" y=\"0\" width=\"55\" height=\"55\" style=\"fill:#a0da39;stroke-width:2;stroke:rgb(255,255,255)\"/></svg>"
      ],
      "text/plain": [
       "[(0.275191, 0.194905, 0.496005),\n",
       " (0.212395, 0.359683, 0.55171),\n",
       " (0.153364, 0.497, 0.557724),\n",
       " (0.122312, 0.633153, 0.530398),\n",
       " (0.288921, 0.758394, 0.428426),\n",
       " (0.626579, 0.854645, 0.223353)]"
      ]
     },
     "execution_count": 15,
     "metadata": {},
     "output_type": "execute_result"
    }
   ],
   "source": [
    "# Importing libraries\n",
    "import numpy as np\n",
    "import pandas as pd\n",
    "import matplotlib.pyplot as plt\n",
    "import seaborn as sns\n",
    "from ucimlrepo import fetch_ucirepo \n",
    "from pyspark.sql import SparkSession\n",
    "from sklearn.preprocessing import StandardScaler\n",
    "from sklearn.preprocessing import LabelEncoder\n",
    "from sklearn.model_selection import train_test_split\n",
    "\n",
    "from sklearn.metrics import precision_score\n",
    "from sklearn.metrics import accuracy_score\n",
    "from sklearn.metrics import recall_score\n",
    "from sklearn.metrics import f1_score\n",
    "from sklearn.metrics import confusion_matrix\n",
    "from sklearn.metrics import classification_report\n",
    "\n",
    "from sklearn.linear_model import LinearRegression\n",
    "from sklearn.neighbors import KNeighborsClassifier\n",
    "from sklearn.ensemble import RandomForestClassifier, GradientBoostingClassifier\n",
    "from sklearn.ensemble import RandomForestRegressor, GradientBoostingRegressor\n",
    "\n",
    "sns.color_palette(palette='viridis')"
   ]
  },
  {
   "cell_type": "code",
   "execution_count": null,
   "id": "d0d0f0f8",
   "metadata": {},
   "outputs": [
    {
     "data": {
      "application/vnd.microsoft.datawrangler.viewer.v0+json": {
       "columns": [
        {
         "name": "index",
         "rawType": "int64",
         "type": "integer"
        },
        {
         "name": "state",
         "rawType": "int64",
         "type": "integer"
        },
        {
         "name": "county",
         "rawType": "object",
         "type": "string"
        },
        {
         "name": "community",
         "rawType": "object",
         "type": "string"
        },
        {
         "name": "communityname",
         "rawType": "object",
         "type": "string"
        },
        {
         "name": "fold",
         "rawType": "int64",
         "type": "integer"
        },
        {
         "name": "population",
         "rawType": "float64",
         "type": "float"
        },
        {
         "name": "householdsize",
         "rawType": "float64",
         "type": "float"
        },
        {
         "name": "racepctblack",
         "rawType": "float64",
         "type": "float"
        },
        {
         "name": "racePctWhite",
         "rawType": "float64",
         "type": "float"
        },
        {
         "name": "racePctAsian",
         "rawType": "float64",
         "type": "float"
        },
        {
         "name": "racePctHisp",
         "rawType": "float64",
         "type": "float"
        },
        {
         "name": "agePct12t21",
         "rawType": "float64",
         "type": "float"
        },
        {
         "name": "agePct12t29",
         "rawType": "float64",
         "type": "float"
        },
        {
         "name": "agePct16t24",
         "rawType": "float64",
         "type": "float"
        },
        {
         "name": "agePct65up",
         "rawType": "float64",
         "type": "float"
        },
        {
         "name": "numbUrban",
         "rawType": "float64",
         "type": "float"
        },
        {
         "name": "pctUrban",
         "rawType": "float64",
         "type": "float"
        },
        {
         "name": "medIncome",
         "rawType": "float64",
         "type": "float"
        },
        {
         "name": "pctWWage",
         "rawType": "float64",
         "type": "float"
        },
        {
         "name": "pctWFarmSelf",
         "rawType": "float64",
         "type": "float"
        },
        {
         "name": "pctWInvInc",
         "rawType": "float64",
         "type": "float"
        },
        {
         "name": "pctWSocSec",
         "rawType": "float64",
         "type": "float"
        },
        {
         "name": "pctWPubAsst",
         "rawType": "float64",
         "type": "float"
        },
        {
         "name": "pctWRetire",
         "rawType": "float64",
         "type": "float"
        },
        {
         "name": "medFamInc",
         "rawType": "float64",
         "type": "float"
        },
        {
         "name": "perCapInc",
         "rawType": "float64",
         "type": "float"
        },
        {
         "name": "whitePerCap",
         "rawType": "float64",
         "type": "float"
        },
        {
         "name": "blackPerCap",
         "rawType": "float64",
         "type": "float"
        },
        {
         "name": "indianPerCap",
         "rawType": "float64",
         "type": "float"
        },
        {
         "name": "AsianPerCap",
         "rawType": "float64",
         "type": "float"
        },
        {
         "name": "OtherPerCap",
         "rawType": "object",
         "type": "string"
        },
        {
         "name": "HispPerCap",
         "rawType": "float64",
         "type": "float"
        },
        {
         "name": "NumUnderPov",
         "rawType": "float64",
         "type": "float"
        },
        {
         "name": "PctPopUnderPov",
         "rawType": "float64",
         "type": "float"
        },
        {
         "name": "PctLess9thGrade",
         "rawType": "float64",
         "type": "float"
        },
        {
         "name": "PctNotHSGrad",
         "rawType": "float64",
         "type": "float"
        },
        {
         "name": "PctBSorMore",
         "rawType": "float64",
         "type": "float"
        },
        {
         "name": "PctUnemployed",
         "rawType": "float64",
         "type": "float"
        },
        {
         "name": "PctEmploy",
         "rawType": "float64",
         "type": "float"
        },
        {
         "name": "PctEmplManu",
         "rawType": "float64",
         "type": "float"
        },
        {
         "name": "PctEmplProfServ",
         "rawType": "float64",
         "type": "float"
        },
        {
         "name": "PctOccupManu",
         "rawType": "float64",
         "type": "float"
        },
        {
         "name": "PctOccupMgmtProf",
         "rawType": "float64",
         "type": "float"
        },
        {
         "name": "MalePctDivorce",
         "rawType": "float64",
         "type": "float"
        },
        {
         "name": "MalePctNevMarr",
         "rawType": "float64",
         "type": "float"
        },
        {
         "name": "FemalePctDiv",
         "rawType": "float64",
         "type": "float"
        },
        {
         "name": "TotalPctDiv",
         "rawType": "float64",
         "type": "float"
        },
        {
         "name": "PersPerFam",
         "rawType": "float64",
         "type": "float"
        },
        {
         "name": "PctFam2Par",
         "rawType": "float64",
         "type": "float"
        },
        {
         "name": "PctKids2Par",
         "rawType": "float64",
         "type": "float"
        },
        {
         "name": "PctYoungKids2Par",
         "rawType": "float64",
         "type": "float"
        },
        {
         "name": "PctTeen2Par",
         "rawType": "float64",
         "type": "float"
        },
        {
         "name": "PctWorkMomYoungKids",
         "rawType": "float64",
         "type": "float"
        },
        {
         "name": "PctWorkMom",
         "rawType": "float64",
         "type": "float"
        },
        {
         "name": "NumIlleg",
         "rawType": "float64",
         "type": "float"
        },
        {
         "name": "PctIlleg",
         "rawType": "float64",
         "type": "float"
        },
        {
         "name": "NumImmig",
         "rawType": "float64",
         "type": "float"
        },
        {
         "name": "PctImmigRecent",
         "rawType": "float64",
         "type": "float"
        },
        {
         "name": "PctImmigRec5",
         "rawType": "float64",
         "type": "float"
        },
        {
         "name": "PctImmigRec8",
         "rawType": "float64",
         "type": "float"
        },
        {
         "name": "PctImmigRec10",
         "rawType": "float64",
         "type": "float"
        },
        {
         "name": "PctRecentImmig",
         "rawType": "float64",
         "type": "float"
        },
        {
         "name": "PctRecImmig5",
         "rawType": "float64",
         "type": "float"
        },
        {
         "name": "PctRecImmig8",
         "rawType": "float64",
         "type": "float"
        },
        {
         "name": "PctRecImmig10",
         "rawType": "float64",
         "type": "float"
        },
        {
         "name": "PctSpeakEnglOnly",
         "rawType": "float64",
         "type": "float"
        },
        {
         "name": "PctNotSpeakEnglWell",
         "rawType": "float64",
         "type": "float"
        },
        {
         "name": "PctLargHouseFam",
         "rawType": "float64",
         "type": "float"
        },
        {
         "name": "PctLargHouseOccup",
         "rawType": "float64",
         "type": "float"
        },
        {
         "name": "PersPerOccupHous",
         "rawType": "float64",
         "type": "float"
        },
        {
         "name": "PersPerOwnOccHous",
         "rawType": "float64",
         "type": "float"
        },
        {
         "name": "PersPerRentOccHous",
         "rawType": "float64",
         "type": "float"
        },
        {
         "name": "PctPersOwnOccup",
         "rawType": "float64",
         "type": "float"
        },
        {
         "name": "PctPersDenseHous",
         "rawType": "float64",
         "type": "float"
        },
        {
         "name": "PctHousLess3BR",
         "rawType": "float64",
         "type": "float"
        },
        {
         "name": "MedNumBR",
         "rawType": "float64",
         "type": "float"
        },
        {
         "name": "HousVacant",
         "rawType": "float64",
         "type": "float"
        },
        {
         "name": "PctHousOccup",
         "rawType": "float64",
         "type": "float"
        },
        {
         "name": "PctHousOwnOcc",
         "rawType": "float64",
         "type": "float"
        },
        {
         "name": "PctVacantBoarded",
         "rawType": "float64",
         "type": "float"
        },
        {
         "name": "PctVacMore6Mos",
         "rawType": "float64",
         "type": "float"
        },
        {
         "name": "MedYrHousBuilt",
         "rawType": "float64",
         "type": "float"
        },
        {
         "name": "PctHousNoPhone",
         "rawType": "float64",
         "type": "float"
        },
        {
         "name": "PctWOFullPlumb",
         "rawType": "float64",
         "type": "float"
        },
        {
         "name": "OwnOccLowQuart",
         "rawType": "float64",
         "type": "float"
        },
        {
         "name": "OwnOccMedVal",
         "rawType": "float64",
         "type": "float"
        },
        {
         "name": "OwnOccHiQuart",
         "rawType": "float64",
         "type": "float"
        },
        {
         "name": "RentLowQ",
         "rawType": "float64",
         "type": "float"
        },
        {
         "name": "RentMedian",
         "rawType": "float64",
         "type": "float"
        },
        {
         "name": "RentHighQ",
         "rawType": "float64",
         "type": "float"
        },
        {
         "name": "MedRent",
         "rawType": "float64",
         "type": "float"
        },
        {
         "name": "MedRentPctHousInc",
         "rawType": "float64",
         "type": "float"
        },
        {
         "name": "MedOwnCostPctInc",
         "rawType": "float64",
         "type": "float"
        },
        {
         "name": "MedOwnCostPctIncNoMtg",
         "rawType": "float64",
         "type": "float"
        },
        {
         "name": "NumInShelters",
         "rawType": "float64",
         "type": "float"
        },
        {
         "name": "NumStreet",
         "rawType": "float64",
         "type": "float"
        },
        {
         "name": "PctForeignBorn",
         "rawType": "float64",
         "type": "float"
        },
        {
         "name": "PctBornSameState",
         "rawType": "float64",
         "type": "float"
        },
        {
         "name": "PctSameHouse85",
         "rawType": "float64",
         "type": "float"
        },
        {
         "name": "PctSameCity85",
         "rawType": "float64",
         "type": "float"
        },
        {
         "name": "PctSameState85",
         "rawType": "float64",
         "type": "float"
        },
        {
         "name": "LemasSwornFT",
         "rawType": "object",
         "type": "string"
        },
        {
         "name": "LemasSwFTPerPop",
         "rawType": "object",
         "type": "string"
        },
        {
         "name": "LemasSwFTFieldOps",
         "rawType": "object",
         "type": "string"
        },
        {
         "name": "LemasSwFTFieldPerPop",
         "rawType": "object",
         "type": "string"
        },
        {
         "name": "LemasTotalReq",
         "rawType": "object",
         "type": "string"
        },
        {
         "name": "LemasTotReqPerPop",
         "rawType": "object",
         "type": "string"
        },
        {
         "name": "PolicReqPerOffic",
         "rawType": "object",
         "type": "string"
        },
        {
         "name": "PolicPerPop",
         "rawType": "object",
         "type": "string"
        },
        {
         "name": "RacialMatchCommPol",
         "rawType": "object",
         "type": "string"
        },
        {
         "name": "PctPolicWhite",
         "rawType": "object",
         "type": "string"
        },
        {
         "name": "PctPolicBlack",
         "rawType": "object",
         "type": "string"
        },
        {
         "name": "PctPolicHisp",
         "rawType": "object",
         "type": "string"
        },
        {
         "name": "PctPolicAsian",
         "rawType": "object",
         "type": "string"
        },
        {
         "name": "PctPolicMinor",
         "rawType": "object",
         "type": "string"
        },
        {
         "name": "OfficAssgnDrugUnits",
         "rawType": "object",
         "type": "string"
        },
        {
         "name": "NumKindsDrugsSeiz",
         "rawType": "object",
         "type": "string"
        },
        {
         "name": "PolicAveOTWorked",
         "rawType": "object",
         "type": "string"
        },
        {
         "name": "LandArea",
         "rawType": "float64",
         "type": "float"
        },
        {
         "name": "PopDens",
         "rawType": "float64",
         "type": "float"
        },
        {
         "name": "PctUsePubTrans",
         "rawType": "float64",
         "type": "float"
        },
        {
         "name": "PolicCars",
         "rawType": "object",
         "type": "string"
        },
        {
         "name": "PolicOperBudg",
         "rawType": "object",
         "type": "string"
        },
        {
         "name": "LemasPctPolicOnPatr",
         "rawType": "object",
         "type": "string"
        },
        {
         "name": "LemasGangUnitDeploy",
         "rawType": "object",
         "type": "string"
        },
        {
         "name": "LemasPctOfficDrugUn",
         "rawType": "float64",
         "type": "float"
        },
        {
         "name": "PolicBudgPerPop",
         "rawType": "object",
         "type": "string"
        },
        {
         "name": "ViolentCrimesPerPop",
         "rawType": "float64",
         "type": "float"
        }
       ],
       "conversionMethod": "pd.DataFrame",
       "ref": "bd6e43cf-b948-4484-b6b9-e6ddaae2acb5",
       "rows": [
        [
         "0",
         "8",
         "?",
         "?",
         "Lakewoodcity",
         "1",
         "0.19",
         "0.33",
         "0.02",
         "0.9",
         "0.12",
         "0.17",
         "0.34",
         "0.47",
         "0.29",
         "0.32",
         "0.2",
         "1.0",
         "0.37",
         "0.72",
         "0.34",
         "0.6",
         "0.29",
         "0.15",
         "0.43",
         "0.39",
         "0.4",
         "0.39",
         "0.32",
         "0.27",
         "0.27",
         "0.36",
         "0.41",
         "0.08",
         "0.19",
         "0.1",
         "0.18",
         "0.48",
         "0.27",
         "0.68",
         "0.23",
         "0.41",
         "0.25",
         "0.52",
         "0.68",
         "0.4",
         "0.75",
         "0.75",
         "0.35",
         "0.55",
         "0.59",
         "0.61",
         "0.56",
         "0.74",
         "0.76",
         "0.04",
         "0.14",
         "0.03",
         "0.24",
         "0.27",
         "0.37",
         "0.39",
         "0.07",
         "0.07",
         "0.08",
         "0.08",
         "0.89",
         "0.06",
         "0.14",
         "0.13",
         "0.33",
         "0.39",
         "0.28",
         "0.55",
         "0.09",
         "0.51",
         "0.5",
         "0.21",
         "0.71",
         "0.52",
         "0.05",
         "0.26",
         "0.65",
         "0.14",
         "0.06",
         "0.22",
         "0.19",
         "0.18",
         "0.36",
         "0.35",
         "0.38",
         "0.34",
         "0.38",
         "0.46",
         "0.25",
         "0.04",
         "0.0",
         "0.12",
         "0.42",
         "0.5",
         "0.51",
         "0.64",
         "0.03",
         "0.13",
         "0.96",
         "0.17",
         "0.06",
         "0.18",
         "0.44",
         "0.13",
         "0.94",
         "0.93",
         "0.03",
         "0.07",
         "0.1",
         "0.07",
         "0.02",
         "0.57",
         "0.29",
         "0.12",
         "0.26",
         "0.2",
         "0.06",
         "0.04",
         "0.9",
         "0.5",
         "0.32",
         "0.14",
         "0.2"
        ],
        [
         "1",
         "53",
         "?",
         "?",
         "Tukwilacity",
         "1",
         "0.0",
         "0.16",
         "0.12",
         "0.74",
         "0.45",
         "0.07",
         "0.26",
         "0.59",
         "0.35",
         "0.27",
         "0.02",
         "1.0",
         "0.31",
         "0.72",
         "0.11",
         "0.45",
         "0.25",
         "0.29",
         "0.39",
         "0.29",
         "0.37",
         "0.38",
         "0.33",
         "0.16",
         "0.3",
         "0.22",
         "0.35",
         "0.01",
         "0.24",
         "0.14",
         "0.24",
         "0.3",
         "0.27",
         "0.73",
         "0.57",
         "0.15",
         "0.42",
         "0.36",
         "1.0",
         "0.63",
         "0.91",
         "1.0",
         "0.29",
         "0.43",
         "0.47",
         "0.6",
         "0.39",
         "0.46",
         "0.53",
         "0.0",
         "0.24",
         "0.01",
         "0.52",
         "0.62",
         "0.64",
         "0.63",
         "0.25",
         "0.27",
         "0.25",
         "0.23",
         "0.84",
         "0.1",
         "0.16",
         "0.1",
         "0.17",
         "0.29",
         "0.17",
         "0.26",
         "0.2",
         "0.82",
         "0.0",
         "0.02",
         "0.79",
         "0.24",
         "0.02",
         "0.25",
         "0.65",
         "0.16",
         "0.0",
         "0.21",
         "0.2",
         "0.21",
         "0.42",
         "0.38",
         "0.4",
         "0.37",
         "0.29",
         "0.32",
         "0.18",
         "0.0",
         "0.0",
         "0.21",
         "0.5",
         "0.34",
         "0.6",
         "0.52",
         "?",
         "?",
         "?",
         "?",
         "?",
         "?",
         "?",
         "?",
         "?",
         "?",
         "?",
         "?",
         "?",
         "?",
         "?",
         "?",
         "?",
         "0.02",
         "0.12",
         "0.45",
         "?",
         "?",
         "?",
         "?",
         "0.0",
         "?",
         "0.67"
        ],
        [
         "2",
         "24",
         "?",
         "?",
         "Aberdeentown",
         "1",
         "0.0",
         "0.42",
         "0.49",
         "0.56",
         "0.17",
         "0.04",
         "0.39",
         "0.47",
         "0.28",
         "0.32",
         "0.0",
         "0.0",
         "0.3",
         "0.58",
         "0.19",
         "0.39",
         "0.38",
         "0.4",
         "0.84",
         "0.28",
         "0.27",
         "0.29",
         "0.27",
         "0.07",
         "0.29",
         "0.28",
         "0.39",
         "0.01",
         "0.27",
         "0.27",
         "0.43",
         "0.19",
         "0.36",
         "0.58",
         "0.32",
         "0.29",
         "0.49",
         "0.32",
         "0.63",
         "0.41",
         "0.71",
         "0.7",
         "0.45",
         "0.42",
         "0.44",
         "0.43",
         "0.43",
         "0.71",
         "0.67",
         "0.01",
         "0.46",
         "0.0",
         "0.07",
         "0.06",
         "0.15",
         "0.19",
         "0.02",
         "0.02",
         "0.04",
         "0.05",
         "0.88",
         "0.04",
         "0.2",
         "0.2",
         "0.46",
         "0.52",
         "0.43",
         "0.42",
         "0.15",
         "0.51",
         "0.5",
         "0.01",
         "0.86",
         "0.41",
         "0.29",
         "0.3",
         "0.52",
         "0.47",
         "0.45",
         "0.18",
         "0.17",
         "0.16",
         "0.27",
         "0.29",
         "0.27",
         "0.31",
         "0.48",
         "0.39",
         "0.28",
         "0.0",
         "0.0",
         "0.14",
         "0.49",
         "0.54",
         "0.67",
         "0.56",
         "?",
         "?",
         "?",
         "?",
         "?",
         "?",
         "?",
         "?",
         "?",
         "?",
         "?",
         "?",
         "?",
         "?",
         "?",
         "?",
         "?",
         "0.01",
         "0.21",
         "0.02",
         "?",
         "?",
         "?",
         "?",
         "0.0",
         "?",
         "0.43"
        ],
        [
         "3",
         "34",
         "5",
         "81440",
         "Willingborotownship",
         "1",
         "0.04",
         "0.77",
         "1.0",
         "0.08",
         "0.12",
         "0.1",
         "0.51",
         "0.5",
         "0.34",
         "0.21",
         "0.06",
         "1.0",
         "0.58",
         "0.89",
         "0.21",
         "0.43",
         "0.36",
         "0.2",
         "0.82",
         "0.51",
         "0.36",
         "0.4",
         "0.39",
         "0.16",
         "0.25",
         "0.36",
         "0.44",
         "0.01",
         "0.1",
         "0.09",
         "0.25",
         "0.31",
         "0.33",
         "0.71",
         "0.36",
         "0.45",
         "0.37",
         "0.39",
         "0.34",
         "0.45",
         "0.49",
         "0.44",
         "0.75",
         "0.65",
         "0.54",
         "0.83",
         "0.65",
         "0.85",
         "0.86",
         "0.03",
         "0.33",
         "0.02",
         "0.11",
         "0.2",
         "0.3",
         "0.31",
         "0.05",
         "0.08",
         "0.11",
         "0.11",
         "0.81",
         "0.08",
         "0.56",
         "0.62",
         "0.85",
         "0.77",
         "1.0",
         "0.94",
         "0.12",
         "0.01",
         "0.5",
         "0.01",
         "0.97",
         "0.96",
         "0.6",
         "0.47",
         "0.52",
         "0.11",
         "0.11",
         "0.24",
         "0.21",
         "0.19",
         "0.75",
         "0.7",
         "0.77",
         "0.89",
         "0.63",
         "0.51",
         "0.47",
         "0.0",
         "0.0",
         "0.19",
         "0.3",
         "0.73",
         "0.64",
         "0.65",
         "?",
         "?",
         "?",
         "?",
         "?",
         "?",
         "?",
         "?",
         "?",
         "?",
         "?",
         "?",
         "?",
         "?",
         "?",
         "?",
         "?",
         "0.02",
         "0.39",
         "0.28",
         "?",
         "?",
         "?",
         "?",
         "0.0",
         "?",
         "0.12"
        ],
        [
         "4",
         "42",
         "95",
         "6096",
         "Bethlehemtownship",
         "1",
         "0.01",
         "0.55",
         "0.02",
         "0.95",
         "0.09",
         "0.05",
         "0.38",
         "0.38",
         "0.23",
         "0.36",
         "0.02",
         "0.9",
         "0.5",
         "0.72",
         "0.16",
         "0.68",
         "0.44",
         "0.11",
         "0.71",
         "0.46",
         "0.43",
         "0.41",
         "0.28",
         "0.0",
         "0.74",
         "0.51",
         "0.48",
         "0.0",
         "0.06",
         "0.25",
         "0.3",
         "0.33",
         "0.12",
         "0.65",
         "0.67",
         "0.38",
         "0.42",
         "0.46",
         "0.22",
         "0.27",
         "0.2",
         "0.21",
         "0.51",
         "0.91",
         "0.91",
         "0.89",
         "0.85",
         "0.4",
         "0.6",
         "0.0",
         "0.06",
         "0.0",
         "0.03",
         "0.07",
         "0.2",
         "0.27",
         "0.01",
         "0.02",
         "0.04",
         "0.05",
         "0.88",
         "0.05",
         "0.16",
         "0.19",
         "0.59",
         "0.6",
         "0.37",
         "0.89",
         "0.02",
         "0.19",
         "0.5",
         "0.01",
         "0.89",
         "0.87",
         "0.04",
         "0.55",
         "0.73",
         "0.05",
         "0.14",
         "0.31",
         "0.31",
         "0.3",
         "0.4",
         "0.36",
         "0.38",
         "0.38",
         "0.22",
         "0.51",
         "0.21",
         "0.0",
         "0.0",
         "0.11",
         "0.72",
         "0.64",
         "0.61",
         "0.53",
         "?",
         "?",
         "?",
         "?",
         "?",
         "?",
         "?",
         "?",
         "?",
         "?",
         "?",
         "?",
         "?",
         "?",
         "?",
         "?",
         "?",
         "0.04",
         "0.09",
         "0.02",
         "?",
         "?",
         "?",
         "?",
         "0.0",
         "?",
         "0.03"
        ]
       ],
       "shape": {
        "columns": 128,
        "rows": 5
       }
      },
      "text/html": [
       "<div>\n",
       "<style scoped>\n",
       "    .dataframe tbody tr th:only-of-type {\n",
       "        vertical-align: middle;\n",
       "    }\n",
       "\n",
       "    .dataframe tbody tr th {\n",
       "        vertical-align: top;\n",
       "    }\n",
       "\n",
       "    .dataframe thead th {\n",
       "        text-align: right;\n",
       "    }\n",
       "</style>\n",
       "<table border=\"1\" class=\"dataframe\">\n",
       "  <thead>\n",
       "    <tr style=\"text-align: right;\">\n",
       "      <th></th>\n",
       "      <th>state</th>\n",
       "      <th>county</th>\n",
       "      <th>community</th>\n",
       "      <th>communityname</th>\n",
       "      <th>fold</th>\n",
       "      <th>population</th>\n",
       "      <th>householdsize</th>\n",
       "      <th>racepctblack</th>\n",
       "      <th>racePctWhite</th>\n",
       "      <th>racePctAsian</th>\n",
       "      <th>...</th>\n",
       "      <th>LandArea</th>\n",
       "      <th>PopDens</th>\n",
       "      <th>PctUsePubTrans</th>\n",
       "      <th>PolicCars</th>\n",
       "      <th>PolicOperBudg</th>\n",
       "      <th>LemasPctPolicOnPatr</th>\n",
       "      <th>LemasGangUnitDeploy</th>\n",
       "      <th>LemasPctOfficDrugUn</th>\n",
       "      <th>PolicBudgPerPop</th>\n",
       "      <th>ViolentCrimesPerPop</th>\n",
       "    </tr>\n",
       "  </thead>\n",
       "  <tbody>\n",
       "    <tr>\n",
       "      <th>0</th>\n",
       "      <td>8</td>\n",
       "      <td>?</td>\n",
       "      <td>?</td>\n",
       "      <td>Lakewoodcity</td>\n",
       "      <td>1</td>\n",
       "      <td>0.19</td>\n",
       "      <td>0.33</td>\n",
       "      <td>0.02</td>\n",
       "      <td>0.90</td>\n",
       "      <td>0.12</td>\n",
       "      <td>...</td>\n",
       "      <td>0.12</td>\n",
       "      <td>0.26</td>\n",
       "      <td>0.20</td>\n",
       "      <td>0.06</td>\n",
       "      <td>0.04</td>\n",
       "      <td>0.9</td>\n",
       "      <td>0.5</td>\n",
       "      <td>0.32</td>\n",
       "      <td>0.14</td>\n",
       "      <td>0.20</td>\n",
       "    </tr>\n",
       "    <tr>\n",
       "      <th>1</th>\n",
       "      <td>53</td>\n",
       "      <td>?</td>\n",
       "      <td>?</td>\n",
       "      <td>Tukwilacity</td>\n",
       "      <td>1</td>\n",
       "      <td>0.00</td>\n",
       "      <td>0.16</td>\n",
       "      <td>0.12</td>\n",
       "      <td>0.74</td>\n",
       "      <td>0.45</td>\n",
       "      <td>...</td>\n",
       "      <td>0.02</td>\n",
       "      <td>0.12</td>\n",
       "      <td>0.45</td>\n",
       "      <td>?</td>\n",
       "      <td>?</td>\n",
       "      <td>?</td>\n",
       "      <td>?</td>\n",
       "      <td>0.00</td>\n",
       "      <td>?</td>\n",
       "      <td>0.67</td>\n",
       "    </tr>\n",
       "    <tr>\n",
       "      <th>2</th>\n",
       "      <td>24</td>\n",
       "      <td>?</td>\n",
       "      <td>?</td>\n",
       "      <td>Aberdeentown</td>\n",
       "      <td>1</td>\n",
       "      <td>0.00</td>\n",
       "      <td>0.42</td>\n",
       "      <td>0.49</td>\n",
       "      <td>0.56</td>\n",
       "      <td>0.17</td>\n",
       "      <td>...</td>\n",
       "      <td>0.01</td>\n",
       "      <td>0.21</td>\n",
       "      <td>0.02</td>\n",
       "      <td>?</td>\n",
       "      <td>?</td>\n",
       "      <td>?</td>\n",
       "      <td>?</td>\n",
       "      <td>0.00</td>\n",
       "      <td>?</td>\n",
       "      <td>0.43</td>\n",
       "    </tr>\n",
       "    <tr>\n",
       "      <th>3</th>\n",
       "      <td>34</td>\n",
       "      <td>5</td>\n",
       "      <td>81440</td>\n",
       "      <td>Willingborotownship</td>\n",
       "      <td>1</td>\n",
       "      <td>0.04</td>\n",
       "      <td>0.77</td>\n",
       "      <td>1.00</td>\n",
       "      <td>0.08</td>\n",
       "      <td>0.12</td>\n",
       "      <td>...</td>\n",
       "      <td>0.02</td>\n",
       "      <td>0.39</td>\n",
       "      <td>0.28</td>\n",
       "      <td>?</td>\n",
       "      <td>?</td>\n",
       "      <td>?</td>\n",
       "      <td>?</td>\n",
       "      <td>0.00</td>\n",
       "      <td>?</td>\n",
       "      <td>0.12</td>\n",
       "    </tr>\n",
       "    <tr>\n",
       "      <th>4</th>\n",
       "      <td>42</td>\n",
       "      <td>95</td>\n",
       "      <td>6096</td>\n",
       "      <td>Bethlehemtownship</td>\n",
       "      <td>1</td>\n",
       "      <td>0.01</td>\n",
       "      <td>0.55</td>\n",
       "      <td>0.02</td>\n",
       "      <td>0.95</td>\n",
       "      <td>0.09</td>\n",
       "      <td>...</td>\n",
       "      <td>0.04</td>\n",
       "      <td>0.09</td>\n",
       "      <td>0.02</td>\n",
       "      <td>?</td>\n",
       "      <td>?</td>\n",
       "      <td>?</td>\n",
       "      <td>?</td>\n",
       "      <td>0.00</td>\n",
       "      <td>?</td>\n",
       "      <td>0.03</td>\n",
       "    </tr>\n",
       "  </tbody>\n",
       "</table>\n",
       "<p>5 rows × 128 columns</p>\n",
       "</div>"
      ],
      "text/plain": [
       "   state county community        communityname  fold  population  \\\n",
       "0      8      ?         ?         Lakewoodcity     1        0.19   \n",
       "1     53      ?         ?          Tukwilacity     1        0.00   \n",
       "2     24      ?         ?         Aberdeentown     1        0.00   \n",
       "3     34      5     81440  Willingborotownship     1        0.04   \n",
       "4     42     95      6096    Bethlehemtownship     1        0.01   \n",
       "\n",
       "   householdsize  racepctblack  racePctWhite  racePctAsian  ...  LandArea  \\\n",
       "0           0.33          0.02          0.90          0.12  ...      0.12   \n",
       "1           0.16          0.12          0.74          0.45  ...      0.02   \n",
       "2           0.42          0.49          0.56          0.17  ...      0.01   \n",
       "3           0.77          1.00          0.08          0.12  ...      0.02   \n",
       "4           0.55          0.02          0.95          0.09  ...      0.04   \n",
       "\n",
       "   PopDens  PctUsePubTrans  PolicCars  PolicOperBudg  LemasPctPolicOnPatr  \\\n",
       "0     0.26            0.20       0.06           0.04                  0.9   \n",
       "1     0.12            0.45          ?              ?                    ?   \n",
       "2     0.21            0.02          ?              ?                    ?   \n",
       "3     0.39            0.28          ?              ?                    ?   \n",
       "4     0.09            0.02          ?              ?                    ?   \n",
       "\n",
       "   LemasGangUnitDeploy  LemasPctOfficDrugUn  PolicBudgPerPop  \\\n",
       "0                  0.5                 0.32             0.14   \n",
       "1                    ?                 0.00                ?   \n",
       "2                    ?                 0.00                ?   \n",
       "3                    ?                 0.00                ?   \n",
       "4                    ?                 0.00                ?   \n",
       "\n",
       "   ViolentCrimesPerPop  \n",
       "0                 0.20  \n",
       "1                 0.67  \n",
       "2                 0.43  \n",
       "3                 0.12  \n",
       "4                 0.03  \n",
       "\n",
       "[5 rows x 128 columns]"
      ]
     },
     "execution_count": 16,
     "metadata": {},
     "output_type": "execute_result"
    }
   ],
   "source": [
    "# fetch dataset \n",
    "communities_and_crime = fetch_ucirepo(id=183) \n",
    "\n",
    "# data (as pandas dataframes) \n",
    "X = communities_and_crime.data.features \n",
    "y = communities_and_crime.data.targets \n",
    "\n",
    "df = pd.concat([X, y], axis=1)"
   ]
  },
  {
   "cell_type": "code",
   "execution_count": null,
   "id": "dd37aa5b",
   "metadata": {},
   "outputs": [
    {
     "name": "stderr",
     "output_type": "stream",
     "text": [
      "25/05/01 19:07:53 WARN Utils: Your hostname, Mauricios-MacBook-Pro-4.local resolves to a loopback address: 127.0.0.1; using 10.243.20.248 instead (on interface en0)\n",
      "25/05/01 19:07:53 WARN Utils: Set SPARK_LOCAL_IP if you need to bind to another address\n",
      "Setting default log level to \"WARN\".\n",
      "To adjust logging level use sc.setLogLevel(newLevel). For SparkR, use setLogLevel(newLevel).\n",
      "25/05/01 19:07:53 WARN NativeCodeLoader: Unable to load native-hadoop library for your platform... using builtin-java classes where applicable\n"
     ]
    }
   ],
   "source": [
    "spark = SparkSession.builder.appName(\"CommunitiesCrime\").getOrCreate()\n",
    "\n",
    "# Convert the merged pandas DataFrame to PySpark DataFrame\n",
    "spark_df = spark.createDataFrame(df)"
   ]
  }
 ],
 "metadata": {
  "kernelspec": {
   "display_name": "base",
   "language": "python",
   "name": "python3"
  },
  "language_info": {
   "name": "python",
   "version": "3.12.9"
  }
 },
 "nbformat": 4,
 "nbformat_minor": 5
}
